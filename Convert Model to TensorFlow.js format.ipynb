{
  "nbformat": 4,
  "nbformat_minor": 0,
  "metadata": {
    "colab": {
      "provenance": [],
      "gpuType": "V28",
      "authorship_tag": "ABX9TyNYYSq+F3j+MRWDzMUHdyns",
      "include_colab_link": true
    },
    "kernelspec": {
      "name": "python3",
      "display_name": "Python 3"
    },
    "language_info": {
      "name": "python"
    },
    "accelerator": "TPU"
  },
  "cells": [
    {
      "cell_type": "markdown",
      "metadata": {
        "id": "view-in-github",
        "colab_type": "text"
      },
      "source": [
        "<a href=\"https://colab.research.google.com/github/Khalid-Siddiqi/AI-Based-Diabetic-Patient-Management/blob/main/Convert%20Model%20to%20TensorFlow.js%20format.ipynb\" target=\"_parent\"><img src=\"https://colab.research.google.com/assets/colab-badge.svg\" alt=\"Open In Colab\"/></a>"
      ]
    },
    {
      "cell_type": "code",
      "execution_count": null,
      "metadata": {
        "collapsed": true,
        "id": "WGXHl1DIvMiX"
      },
      "outputs": [],
      "source": [
        "!pip install ultralytics tensorflow tensorflowjs\n"
      ]
    },
    {
      "cell_type": "code",
      "source": [
        "from ultralytics import YOLO\n",
        "import tensorflow as tf\n",
        "\n",
        "# Clear the current TensorFlow session to avoid metric conflicts\n",
        "tf.keras.backend.clear_session()\n",
        "\n",
        "# Load the YOLO model (replace 'path_to_your_model.pt' with the correct path)\n",
        "model = YOLO(\"/content/Model.pt\")  # Ensure you upload the model file to Colab\n",
        "\n",
        "# Export the model to TF.js format\n",
        "model.export(format=\"tfjs\")  # This will create a directory called '/yolo_model'\n"
      ],
      "metadata": {
        "id": "elhNUJzRxNHm"
      },
      "execution_count": null,
      "outputs": []
    }
  ]
}